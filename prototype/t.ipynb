{
 "cells": [
  {
   "cell_type": "code",
   "execution_count": 1,
   "metadata": {},
   "outputs": [],
   "source": [
    "import numpy as np\n",
    "import pandas as pd\n",
    "import matplotlib.pyplot as plt\n",
    "\n",
    "%matplotlib inline\n",
    "\n",
    "np.random.seed(0)"
   ]
  },
  {
   "cell_type": "markdown",
   "metadata": {},
   "source": [
    "## Loading the Data"
   ]
  },
  {
   "cell_type": "code",
   "execution_count": 2,
   "metadata": {},
   "outputs": [],
   "source": [
    "import os\n",
    "from datetime import datetime"
   ]
  },
  {
   "cell_type": "code",
   "execution_count": 3,
   "metadata": {},
   "outputs": [],
   "source": [
    "datetime_format = '%Y-%m-%d %H:%M:%S'\n",
    "predict_begin_time = datetime.strptime('2015-02-20 00:00:00', datetime_format)\n",
    "predict_end_time = datetime.strptime('2015-02-27 00:00:00', datetime_format)"
   ]
  },
  {
   "cell_type": "code",
   "execution_count": 4,
   "metadata": {},
   "outputs": [],
   "source": [
    "def is_txt(file):\n",
    "    return os.path.splitext(file)[1] == '.txt'\n",
    "def join(dir):\n",
    "    def join_dir(file): return os.path.join(dir, file)\n",
    "    return join_dir\n",
    "def readlines(file):\n",
    "    with open(file) as h: return [line.strip() for line in h]"
   ]
  },
  {
   "cell_type": "code",
   "execution_count": 5,
   "metadata": {},
   "outputs": [],
   "source": [
    "def line_tuple(line):\n",
    "    ss = line.split('\\t')\n",
    "    dt = datetime.strptime(ss[2], datetime_format)\n",
    "    # :: (vm_id, flavor_id, date, time)\n",
    "    return (ss[0], ss[1], dt.date(), dt.time())\n",
    "def get_flavor(line_tuple):\n",
    "    return line_tuple[1]\n",
    "def get_day(line_tuple):\n",
    "    return line_tuple[2]"
   ]
  },
  {
   "cell_type": "code",
   "execution_count": 6,
   "metadata": {},
   "outputs": [
    {
     "data": {
      "text/plain": [
       "3442"
      ]
     },
     "execution_count": 6,
     "metadata": {},
     "output_type": "execute_result"
    }
   ],
   "source": [
    "datasets_dir = '../datasets'\n",
    "datasets_files = map(join(datasets_dir), filter(is_txt, os.listdir(datasets_dir)))\n",
    "datasets_raw = [line_tuple(line) for file in datasets_files for line in readlines(file)]\n",
    "len(datasets_raw)"
   ]
  },
  {
   "cell_type": "code",
   "execution_count": 7,
   "metadata": {},
   "outputs": [
    {
     "data": {
      "text/plain": [
       "(188, (datetime.date(2015, 1, 1), Counter({'flavor15': 2, 'flavor8': 1})))"
      ]
     },
     "execution_count": 7,
     "metadata": {},
     "output_type": "execute_result"
    }
   ],
   "source": [
    "from itertools import groupby\n",
    "from collections import Counter\n",
    "# :: [(date, counter[flavor_id])]\n",
    "flavors_by_day = [(day, Counter(map(get_flavor, ts))) for day, ts in groupby(datasets_raw, get_day)]\n",
    "len(flavors_by_day), flavors_by_day[0]"
   ]
  },
  {
   "cell_type": "code",
   "execution_count": null,
   "metadata": {},
   "outputs": [],
   "source": []
  }
 ],
 "metadata": {
  "kernelspec": {
   "display_name": "Python 3",
   "language": "python",
   "name": "python3"
  },
  "language_info": {
   "codemirror_mode": {
    "name": "ipython",
    "version": 3
   },
   "file_extension": ".py",
   "mimetype": "text/x-python",
   "name": "python",
   "nbconvert_exporter": "python",
   "pygments_lexer": "ipython3",
   "version": "3.6.4"
  },
  "toc": {
   "colors": {
    "hover_highlight": "#DAA520",
    "navigate_num": "#000000",
    "navigate_text": "#333333",
    "running_highlight": "#FF0000",
    "selected_highlight": "#FFD700",
    "sidebar_border": "#EEEEEE",
    "wrapper_background": "#FFFFFF"
   },
   "moveMenuLeft": true,
   "nav_menu": {
    "height": "30px",
    "width": "252px"
   },
   "navigate_menu": true,
   "number_sections": true,
   "sideBar": true,
   "threshold": 4,
   "toc_cell": false,
   "toc_section_display": "block",
   "toc_window_display": false,
   "widenNotebook": false
  }
 },
 "nbformat": 4,
 "nbformat_minor": 2
}
